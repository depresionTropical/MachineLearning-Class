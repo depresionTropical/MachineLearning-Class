{
 "cells": [
  {
   "cell_type": "code",
   "execution_count": 2,
   "id": "bf6d07c9-a029-4043-ac4b-8253ea31bc3e",
   "metadata": {},
   "outputs": [],
   "source": [
    "import numpy as np \n",
    "from sklearn.linear_model import LinearRegression"
   ]
  },
  {
   "cell_type": "code",
   "execution_count": 3,
   "id": "02ab7e78-2cf1-4614-b449-9e9882210d2d",
   "metadata": {},
   "outputs": [],
   "source": [
    "X = np.array([[1,1],[1,2],[1,3]])\n",
    "y = np.array([1,4,4])"
   ]
  },
  {
   "cell_type": "code",
   "execution_count": 4,
   "id": "54e8ffe6-5141-4662-8a44-c8dc9d272cc2",
   "metadata": {},
   "outputs": [],
   "source": [
    "reg = LinearRegression().fit(X,y)   "
   ]
  },
  {
   "cell_type": "code",
   "execution_count": 5,
   "id": "149a36a0-1adf-4d63-9498-a2faf21327ae",
   "metadata": {},
   "outputs": [],
   "source": [
    "Score = reg.score(X,y)"
   ]
  },
  {
   "cell_type": "code",
   "execution_count": 7,
   "id": "d671e63e-3499-4c53-86e1-92c75889f633",
   "metadata": {},
   "outputs": [
    {
     "name": "stdout",
     "output_type": "stream",
     "text": [
      "0.7500000000000001\n",
      "[0.  1.5]\n",
      "8.881784197001252e-16\n",
      "[6.]\n"
     ]
    }
   ],
   "source": [
    "print(Score)\n",
    "print(reg.coef_)\n",
    "print(reg.intercept_)\n",
    "print(reg.predict(np.array([[1,4]])))"
   ]
  },
  {
   "cell_type": "code",
   "execution_count": null,
   "id": "2a1fed13-e30c-4c88-a9b9-97f56bddc28f",
   "metadata": {},
   "outputs": [],
   "source": []
  }
 ],
 "metadata": {
  "kernelspec": {
   "display_name": "Python 3 (ipykernel)",
   "language": "python",
   "name": "python3"
  },
  "language_info": {
   "codemirror_mode": {
    "name": "ipython",
    "version": 3
   },
   "file_extension": ".py",
   "mimetype": "text/x-python",
   "name": "python",
   "nbconvert_exporter": "python",
   "pygments_lexer": "ipython3",
   "version": "3.10.12"
  }
 },
 "nbformat": 4,
 "nbformat_minor": 5
}
